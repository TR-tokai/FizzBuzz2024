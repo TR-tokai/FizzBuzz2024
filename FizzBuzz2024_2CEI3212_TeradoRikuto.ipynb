{
  "nbformat": 4,
  "nbformat_minor": 0,
  "metadata": {
    "colab": {
      "provenance": []
    },
    "kernelspec": {
      "name": "python3",
      "display_name": "Python 3"
    },
    "language_info": {
      "name": "python"
    }
  },
  "cells": [
    {
      "cell_type": "code",
      "execution_count": null,
      "metadata": {
        "colab": {
          "base_uri": "https://localhost:8080/"
        },
        "id": "eOru-EBDZ78t",
        "outputId": "0aa1300b-9de3-4e18-d40e-741971fbd64c"
      },
      "outputs": [
        {
          "output_type": "stream",
          "name": "stdout",
          "text": [
            "いくつまで数えますか?\n",
            "15\n",
            "\n",
            "1, 2, Fizz, 4, Buzz, Fizz, 7, 8, Fizz, Buzz, 11, Fizz, 13, 14, Fizz Buzz, "
          ]
        }
      ],
      "source": [
        "a = int(input('いくつまで数えますか?\\n'))\n",
        "print()\n",
        "\n",
        "for i in range(1, a+1, 1):\n",
        "  if i % 15 == 0:\n",
        "    print('Fizz Buzz', end=', ')\n",
        "  elif i % 3 == 0:\n",
        "    print('Fizz', end=', ')\n",
        "  elif i % 5 == 0:\n",
        "    print('Buzz', end=', ')\n",
        "  else:\n",
        "    print(i, end=', ')\n"
      ]
    },
    {
      "cell_type": "code",
      "source": [],
      "metadata": {
        "id": "A-M7Io4LgwyB"
      },
      "execution_count": null,
      "outputs": []
    }
  ]
}